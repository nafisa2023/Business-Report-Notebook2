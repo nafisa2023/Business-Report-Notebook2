{
  "nbformat": 4,
  "nbformat_minor": 0,
  "metadata": {
    "colab": {
      "provenance": [],
      "authorship_tag": "ABX9TyPieK+1mtRkFJFEAZcO2Jz8",
      "include_colab_link": true
    },
    "kernelspec": {
      "name": "python3",
      "display_name": "Python 3"
    },
    "language_info": {
      "name": "python"
    }
  },
  "cells": [
    {
      "cell_type": "markdown",
      "metadata": {
        "id": "view-in-github",
        "colab_type": "text"
      },
      "source": [
        "<a href=\"https://colab.research.google.com/github/nafisa2023/Business-Report-Notebook2/blob/main/Business_Report_Notebook.ipynb\" target=\"_parent\"><img src=\"https://colab.research.google.com/assets/colab-badge.svg\" alt=\"Open In Colab\"/></a>"
      ]
    },
    {
      "cell_type": "code",
      "execution_count": 2,
      "metadata": {
        "id": "Nkc67ELRUBrt"
      },
      "outputs": [],
      "source": [
        "# Import necessary libraries\n",
        "import sqlite3         # For connecting to the SQLite database\n",
        "import pandas as pd    # For data manipulation and analysis\n",
        "import numpy as np     # For numerical operations\n",
        "import matplotlib.pyplot as plt  # For creating plots and charts\n",
        "import seaborn as sns  # For enhanced data visualization\n",
        "import requests        # Requests: A Python module for making HTTP requests to web services"
      ]
    },
    {
      "cell_type": "code",
      "source": [
        "def download_database_from_github(url, local_path):\n",
        "    \"\"\"\n",
        "    Download the database from GitHub and save it locally.\n",
        "    :param url: The URL of the database file on GitHub.\n",
        "    :param local_path: The path to save the downloaded file.\n",
        "    \"\"\"\n",
        "    print('Downloading database from github...')\n",
        "    response = requests.get(url)\n",
        "    with open(local_path, 'wb') as file:\n",
        "        file.write(response.content)\n",
        "    print(f\"Database downloaded and saved to {local_path}\")"
      ],
      "metadata": {
        "id": "NcEajJd4eXf4"
      },
      "execution_count": 3,
      "outputs": []
    },
    {
      "cell_type": "code",
      "source": [
        "def connect_to_database(db_file):\n",
        "    \"\"\"\n",
        "    Connect to an SQLite database.\n",
        "    :param db_file: The path to the SQLite database file.\n",
        "    :return: SQLite connection object.\n",
        "    \"\"\"\n",
        "    print('\\nstablishing connection with database...')\n",
        "    conn = sqlite3.connect(db_file)\n",
        "    print('Connection stablished with database')\n",
        "    return conn"
      ],
      "metadata": {
        "id": "HouTZ4d2ebSy"
      },
      "execution_count": 4,
      "outputs": []
    },
    {
      "cell_type": "code",
      "source": [
        "# Function to load data from the SQLite database into a pandas DataFrame\n",
        "def load_data_from_db(conn):\n",
        "    print('\\nLoading data from Database...........')\n",
        "    # Query to get the table name from the database\n",
        "    query = \"SELECT name FROM sqlite_master WHERE type='table';\"\n",
        "    table_name = conn.execute(query).fetchone()[0]\n",
        "\n",
        "    # Read data from the specified table into a DataFrame\n",
        "    df = pd.read_sql_query(f\"SELECT * from {table_name}\", conn)\n",
        "    print('Loading data: successful')\n",
        "    return df"
      ],
      "metadata": {
        "id": "NG2VmTuueeAy"
      },
      "execution_count": null,
      "outputs": []
    },
    {
      "cell_type": "code",
      "source": [
        "# Function for data cleaning\n",
        "def data_cleaning(df):\n",
        "    print(\"\\nStarting Data Cleaning...........\")\n",
        "\n",
        "    # Print row count before cleaning\n",
        "    print(f\"Row count before cleaning: {len(df)}\")\n",
        "\n",
        "    # Clean a row if smoke is not 0 or 1\n",
        "    df = df[(df['smoke'] == 0) | (df['smoke'] == 1)]\n",
        "\n",
        "    # Clean a row if Cholesterol is not 0 or 1 or 2\n",
        "    df = df[(df['cholesterol'] == 0) | (df['cholesterol'] == 1) | (df['cholesterol'] == 2)]\n",
        "\n",
        "    # Clean a row if Glucose level is not either 1, 2, or 3\n",
        "    df = df[(df['gluc'] == 1) | (df['gluc'] == 2) | (df['gluc'] == 3)]\n",
        "\n",
        "    # Clean a row if smoke is not either 0 or 1\n",
        "    df = df[(df['smoke'] == 0) | (df['smoke'] == 1)]\n",
        "\n",
        "    # Clean a row if alco is not either 0 or 1\n",
        "    df = df[(df['alco'] == 0) | (df['alco'] == 1)]\n",
        "\n",
        "    # Clean a row if active is not either 0 or 1\n",
        "    df = df[(df['active'] == 0) | (df['active'] == 1)]\n",
        "\n",
        "    # Clean a row if cardio is not either 0 or 1\n",
        "    df = df[(df['cardio'] == 0) | (df['cardio'] == 1)]\n",
        "\n",
        "    # Clean a row if weight is more than 700kg and less than 0kg\n",
        "    df = df[(df['weight'] >= 0) & (df['weight'] <= 700)]\n",
        "\n",
        "    # Clean a row if ap_hi is more than 250 and less than 80\n",
        "    df = df[(df['ap_hi'] >= 80) & (df['ap_hi'] <= 250)]\n",
        "\n",
        "    # Clean a row if ap_lo less than 30 and more than 100\n",
        "    df = df[(df['ap_lo'] >= 30) & (df['ap_lo'] <= 100)]\n",
        "\n",
        "    # Clean a row if Height less than 50cm and more than 300 cm\n",
        "    df = df[(df['height'] >= 50) & (df['height'] <= 300)]\n",
        "\n",
        "    # Clean a row if age less than 1 day and more than 109575 days\n",
        "    df = df[(df['age'] >= 1) & (df['age'] <= 109575)]\n",
        "\n",
        "    # Print row count after cleaning\n",
        "    print(f\"Row count after age cleaning: {len(df)}\")\n",
        "    print(\"Data cleaning Done\")\n",
        "\n",
        "    return df"
      ],
      "metadata": {
        "id": "tjzka8foee7h"
      },
      "execution_count": null,
      "outputs": []
    },
    {
      "cell_type": "code",
      "source": [
        "# Function to calculate the gender to cardio ratio and visualize it with a pie chart\n",
        "def gender_to_cardio_ratio(df):\n",
        "    # Group the data by gender and compute the mean of cardio column for each gender\n",
        "    gender_cardio = df.groupby('gender')['cardio'].mean()\n",
        "\n",
        "    # Define the labels for each section of the pie chart\n",
        "    labels = ['Female: No Cardio', 'Female: Cardio', 'Male: No Cardio', 'Male: Cardio']\n",
        "\n",
        "    # Calculate the sizes (percentages) for each section of the pie chart based on the cardio mean for each gender\n",
        "    sizes = [\n",
        "        (1 - gender_cardio[1]) * 100,  # Percentage of females without cardiovascular diseases\n",
        "        gender_cardio[1] * 100,        # Percentage of females with cardiovascular diseases\n",
        "        (1 - gender_cardio[2]) * 100,  # Percentage of males without cardiovascular diseases\n",
        "        gender_cardio[2] * 100         # Percentage of males with cardiovascular diseases\n",
        "    ]\n",
        "\n",
        "    # Plot the pie chart with the specified sizes and labels\n",
        "    plt.pie(sizes, labels=labels, autopct='%1.1f%%', startangle=90)\n",
        "\n",
        "    # Ensure that the pie is drawn as a circle\n",
        "    plt.axis('equal')\n",
        "\n",
        "    # Set the title for the pie chart\n",
        "    plt.title('Gender to Cardio Ratio')\n",
        "\n",
        "    # Display the pie chart\n",
        "    plt.show()"
      ],
      "metadata": {
        "id": "jC6lci1_eiMt"
      },
      "execution_count": null,
      "outputs": []
    },
    {
      "cell_type": "code",
      "source": [
        "# Function to visualize the age to cardio ratio using a bar chart\n",
        "def age_to_cardio_ratio(df):\n",
        "    # Define age bins in years for categorizing the patients' age\n",
        "    bins = [30, 40, 50, 60, 70, 80]\n",
        "\n",
        "    # Define corresponding labels for each age bin\n",
        "    labels = ['30-40', '40-50', '50-60', '60-70', '70-80']\n",
        "\n",
        "    # Convert age from days to years and create a new column 'age_group'\n",
        "    # to categorize each patient's age using the defined bins and labels\n",
        "    df['age_group'] = pd.cut(df['age']/365, bins=bins, labels=labels, right=False)\n",
        "\n",
        "    # Group the data by age group and compute the mean of the cardio column for each age group\n",
        "    age_groups = df.groupby('age_group')['cardio'].mean()\n",
        "\n",
        "    # Plot the age groups against their respective cardio mean using a bar chart\n",
        "    age_groups.plot(kind='bar', title='Age to Cardio Ratio')\n",
        "\n",
        "    # Set the y-axis label\n",
        "    plt.ylabel('Cardio Ratio')\n",
        "\n",
        "    # Display the bar chart\n",
        "    plt.show()"
      ],
      "metadata": {
        "id": "ovPZlDfWelUc"
      },
      "execution_count": null,
      "outputs": []
    },
    {
      "cell_type": "code",
      "source": [
        "# Function to visualize the BMI (Body Mass Index) to cardio ratio using a bar chart\n",
        "def bmi_to_cardio_ratio(df):\n",
        "    # Calculate BMI for each patient using the formula: weight (kg) / (height (m))^2\n",
        "    # and store the results in a new column named 'bmi'\n",
        "    df['bmi'] = df['weight'] / ((df['height'] / 100) ** 2)\n",
        "\n",
        "    # Define BMI categories based on widely accepted cutoffs\n",
        "    bins = [10, 18.5, 25, 30, 40]\n",
        "\n",
        "    # Define labels corresponding to the BMI categories\n",
        "    labels = ['Underweight', 'Normal', 'Overweight', 'Obesity']\n",
        "\n",
        "    # Categorize each patient's BMI using the defined bins and labels\n",
        "    # and create a new column 'bmi_group'\n",
        "    df['bmi_group'] = pd.cut(df['bmi'], bins=bins, labels=labels, right=True)\n",
        "\n",
        "    # Group the data by BMI category and compute the mean of the cardio column for each BMI group\n",
        "    bmi_groups = df.groupby('bmi_group')['cardio'].mean()\n",
        "\n",
        "    # Plot the BMI categories against their respective cardio mean using a bar chart\n",
        "    bmi_groups.plot(kind='bar', title='BMI to Cardio Ratio')\n",
        "\n",
        "    # Set the y-axis label\n",
        "    plt.ylabel('Cardio Ratio')\n",
        "\n",
        "    # Display the bar chart\n",
        "    plt.show()"
      ],
      "metadata": {
        "id": "5ABY5rnxen1V"
      },
      "execution_count": null,
      "outputs": []
    },
    {
      "cell_type": "code",
      "source": [
        "# Function to visualize the average BMI for each cholesterol level using a bar chart\n",
        "def bmi_cholesterol_cardio_ratio(df):\n",
        "    # Mapping cholesterol levels to human-readable descriptions\n",
        "    # Level 1 is normal, level 2 is above normal, and level 3 is well above normal\n",
        "    cholesterol_map = {\n",
        "        1: 'Normal',\n",
        "        2: 'Above Normal',\n",
        "        3: 'Well Above Normal'\n",
        "    }\n",
        "\n",
        "    # Apply the mapping to the 'cholesterol' column to create a new column 'cholesterol_desc'\n",
        "    # that contains descriptive labels for cholesterol levels\n",
        "    df['cholesterol_desc'] = df['cholesterol'].map(cholesterol_map)\n",
        "\n",
        "    # Group the data by cholesterol description and compute the average BMI for each group\n",
        "    avg_bmi_by_chol = df.groupby('cholesterol_desc')['bmi'].mean()\n",
        "\n",
        "    # Plot the average BMI values for each cholesterol level using a bar chart\n",
        "    avg_bmi_by_chol.plot(kind='bar', title='BMI by Cholesterol Levels')\n",
        "\n",
        "    # Set the y-axis label to indicate that we are visualizing average BMI values\n",
        "    plt.ylabel('Average BMI')\n",
        "\n",
        "    # Display the plotted bar chart\n",
        "    plt.show()"
      ],
      "metadata": {
        "id": "QpzR_rDierJV"
      },
      "execution_count": 5,
      "outputs": []
    },
    {
      "cell_type": "code",
      "source": [
        "# Function to visualize the relationship between smoking habits and the presence of cardiovascular diseases\n",
        "def smoke_cardio_ratio(df):\n",
        "    # Group the data by 'smoke' and 'cardio' columns, then count the number of occurrences for each combination\n",
        "    smoke_cardio = df.groupby(['smoke', 'cardio'])['cardio'].count().unstack()\n",
        "\n",
        "    # Replace any NaN values with 0, this may occur if there's no representation for a certain group\n",
        "    smoke_cardio = smoke_cardio.fillna(0)\n",
        "\n",
        "    # Labels for the x-axis representing the two groups: Non-Smokers and Smokers\n",
        "    labels = ['Non-Smoker', 'Smoker']\n",
        "\n",
        "    # Extract counts of people without cardiovascular diseases (denoted by 'cardio' value 0)\n",
        "    non_cardio_counts = smoke_cardio[0]\n",
        "\n",
        "    # Extract counts of people with cardiovascular diseases (denoted by 'cardio' value 1)\n",
        "    cardio_counts = smoke_cardio[1]\n",
        "\n",
        "    # Set the width of each bar in the bar chart\n",
        "    width = 0.35\n",
        "    # Create an array of positions for each group to be used in the bar chart\n",
        "    x = np.arange(len(labels))\n",
        "\n",
        "    # Plot bars for people without cardiovascular diseases (Non-Cardio) for each smoking group\n",
        "    plt.bar(x - width/2, non_cardio_counts, width, label='Non-Cardio')\n",
        "\n",
        "    # Plot bars for people with cardiovascular diseases (Cardio) for each smoking group\n",
        "    plt.bar(x + width/2, cardio_counts, width, label='Cardio')\n",
        "\n",
        "    # Set labels for the x-axis and y-axis, and the title of the bar chart\n",
        "    plt.xlabel('Smoking')\n",
        "    plt.ylabel('Count')\n",
        "    plt.title('Smoking vs. Cardiovascular Disease')\n",
        "\n",
        "    # Set the tick labels for the x-axis using the 'labels' list\n",
        "    plt.xticks(x, labels)\n",
        "\n",
        "    # Display the legend for the bar chart to denote which bars correspond to Cardio and Non-Cardio groups\n",
        "    plt.legend()\n",
        "\n",
        "    # Render the bar chart\n",
        "    plt.show()"
      ],
      "metadata": {
        "id": "Sx4biL86euIH"
      },
      "execution_count": 6,
      "outputs": []
    },
    {
      "cell_type": "code",
      "source": [
        "# Function to visualize the relationship between alcohol consumption habits and the presence of cardiovascular diseases\n",
        "def alcohol_cardio_ratio(df):\n",
        "    # Group the data by 'alco' (alcohol consumption) and 'cardio' columns.\n",
        "    # Then count the number of occurrences for each combination (e.g., drinker with cardio, non-drinker without cardio, etc.)\n",
        "    alcohol_cardio = df.groupby(['alco', 'cardio'])['cardio'].count().unstack()\n",
        "\n",
        "    # If certain combinations have no representation in the dataset, NaN values may arise.\n",
        "    # These are replaced with 0 for visualization clarity.\n",
        "    alcohol_cardio = alcohol_cardio.fillna(0)\n",
        "\n",
        "    # Labels for the x-axis representing the two groups: Non-Drinkers and Drinkers\n",
        "    labels = ['Non-Drinker', 'Drinker']\n",
        "\n",
        "    # Extract counts of people without cardiovascular diseases (denoted by 'cardio' value 0)\n",
        "    non_cardio_counts = alcohol_cardio[0]\n",
        "\n",
        "    # Extract counts of people with cardiovascular diseases (denoted by 'cardio' value 1)\n",
        "    cardio_counts = alcohol_cardio[1]\n",
        "\n",
        "    # Define the width of each bar in the bar chart\n",
        "    width = 0.35\n",
        "    # Create an array of positions for each group to be used in the bar chart\n",
        "    x = np.arange(len(labels))\n",
        "\n",
        "    # Plot bars for people without cardiovascular diseases (Non-Cardio) for each alcohol consumption group\n",
        "    plt.bar(x - width/2, non_cardio_counts, width, label='Non-Cardio')\n",
        "\n",
        "    # Plot bars for people with cardiovascular diseases (Cardio) for each alcohol consumption group\n",
        "    plt.bar(x + width/2, cardio_counts, width, label='Cardio')\n",
        "\n",
        "    # Set labels for the x-axis and y-axis, and the title of the bar chart\n",
        "    plt.xlabel('Alcohol Consumption')\n",
        "    plt.ylabel('Count')\n",
        "    plt.title('Alcohol Consumption vs. Cardiovascular Disease')\n",
        "\n",
        "    # Set the tick labels for the x-axis using the 'labels' list\n",
        "    plt.xticks(x, labels)\n",
        "\n",
        "    # Display the legend for the bar chart to denote which bars correspond to Cardio and Non-Cardio groups\n",
        "    plt.legend()\n",
        "\n",
        "    # Render the bar chart\n",
        "    plt.show()"
      ],
      "metadata": {
        "id": "9ATk5fbPeyVv"
      },
      "execution_count": 7,
      "outputs": []
    },
    {
      "cell_type": "code",
      "source": [
        "# Function to visualize the relationship between BMI and various health factors including\n",
        "# Cholesterol, Glucose, and both Systolic and Diastolic Blood Pressure.\n",
        "def bmi_related_factors(df):\n",
        "    # Calculate the Body Mass Index (BMI) for each entry in the dataframe.\n",
        "    df['bmi'] = df['weight'] / ((df['height'] / 100) ** 2)\n",
        "\n",
        "    # Initialize a 2x2 grid of subplots.\n",
        "    # `fig` refers to the entire figure or collection of plots.\n",
        "    # `axes` is a 2D array where each element corresponds to an individual plot (or \"axis\") on the grid.\n",
        "    fig, axes = plt.subplots(2, 2, figsize=(12, 10))\n",
        "\n",
        "    # Set the main title for the entire figure.\n",
        "    fig.suptitle('Relationship Between BMI and Health Factors', fontsize=16)\n",
        "\n",
        "    # Plotting the relationship between BMI and Cholesterol on the top-left subplot (axes[0, 0]).\n",
        "    sns.scatterplot(x='cholesterol', y='bmi', data=df, ax=axes[0, 0], alpha=0.2, color='green')\n",
        "    # Setting title, x-axis, and y-axis labels for the individual subplot.\n",
        "    axes[0, 0].set_title('BMI vs. Cholesterol')\n",
        "    axes[0, 0].set_xlabel('Cholesterol Levels')\n",
        "    axes[0, 0].set_ylabel('BMI')\n",
        "\n",
        "    # Plotting BMI vs. Glucose on the top-right subplot (axes[0, 1]).\n",
        "    sns.scatterplot(x='gluc', y='bmi', data=df, ax=axes[0, 1], alpha=0.2, color='purple')\n",
        "    axes[0, 1].set_title('BMI vs. Glucose')\n",
        "    axes[0, 1].set_xlabel('Glucose Levels')\n",
        "    axes[0, 1].set_ylabel('BMI')\n",
        "\n",
        "    # Plotting BMI vs. Systolic Blood Pressure on the bottom-left subplot (axes[1, 0]).\n",
        "    sns.scatterplot(x='ap_hi', y='bmi', data=df, ax=axes[1, 0], alpha=0.2, color='blue')\n",
        "    axes[1, 0].set_title('BMI vs. Systolic Blood Pressure')\n",
        "    axes[1, 0].set_xlabel('Systolic Blood Pressure (ap_hi)')\n",
        "    axes[1, 0].set_ylabel('BMI')\n",
        "\n",
        "    # Plotting BMI vs. Diastolic Blood Pressure on the bottom-right subplot (axes[1, 1]).\n",
        "    sns.scatterplot(x='ap_lo', y='bmi', data=df, ax=axes[1, 1], alpha=0.2, color='red')\n",
        "    axes[1, 1].set_title('BMI vs. Diastolic Blood Pressure')\n",
        "    axes[1, 1].set_xlabel('Diastolic Blood Pressure (ap_lo)')\n",
        "    axes[1, 1].set_ylabel('BMI')\n",
        "\n",
        "    # Adjusting the layout of the subplots to avoid overlap between plots, labels, and titles.\n",
        "    plt.tight_layout(rect=[0, 0.03, 1, 0.95])\n",
        "\n",
        "    # Display the complete figure with all its subplots.\n",
        "    plt.show()"
      ],
      "metadata": {
        "id": "VQ7yURque0_y"
      },
      "execution_count": 8,
      "outputs": []
    },
    {
      "cell_type": "code",
      "source": [
        "# Function to visualize the relationship between BMI, Cholesterol, and Glucose in a combined manner.\n",
        "def bmi_related_factors_combined(df):\n",
        "    # Calculate the Body Mass Index (BMI) for each individual in the dataset.\n",
        "    # BMI is calculated as weight (in kg) divided by the square of height (in meters).\n",
        "    df['bmi'] = df['weight'] / ((df['height'] / 100) ** 2)\n",
        "\n",
        "    # Initialize a single subplot.\n",
        "    # `fig` represents the entire figure, and `axes` refers to the individual plot within that figure.\n",
        "    fig, axes = plt.subplots(1, 1, figsize=(10, 6))\n",
        "\n",
        "    # Set the main title for the figure.\n",
        "    fig.suptitle('Relationship Between BMI, Cholesterol, and Glucose', fontsize=16)\n",
        "\n",
        "    # Using seaborn's scatterplot function to plot BMI vs. Cholesterol.\n",
        "    # The plot will be displayed on the previously defined axes.\n",
        "    sns.scatterplot(x='cholesterol', y='bmi', data=df, ax=axes, alpha=0.5, color='green', label='Cholesterol')\n",
        "\n",
        "    # Using seaborn's scatterplot function again on the same axes to overlay BMI vs. Glucose.\n",
        "    # This will result in two scatter plots being visualized on the same plot.\n",
        "    sns.scatterplot(x='gluc', y='bmi', data=df, ax=axes, alpha=0.5, color='purple', label='Glucose')\n",
        "\n",
        "    # Setting title, x-axis, and y-axis labels for the combined scatter plot.\n",
        "    axes.set_title('BMI vs. Cholesterol and Glucose (Scatter Plot)')\n",
        "    axes.set_xlabel('Cholesterol and Glucose Levels')\n",
        "    axes.set_ylabel('BMI')\n",
        "\n",
        "    # Display the legend to differentiate between the two scatter plots.\n",
        "    axes.legend()\n",
        "\n",
        "    # Adjust the layout to ensure titles, labels, and plots do not overlap.\n",
        "    plt.tight_layout(rect=[0, 0.03, 1, 0.95])\n",
        "\n",
        "    # Render the visualization.\n",
        "    plt.show()"
      ],
      "metadata": {
        "id": "AuVJjgyde4E1"
      },
      "execution_count": 9,
      "outputs": []
    },
    {
      "cell_type": "code",
      "source": [
        "def main():\n",
        "    # Specify the URL of the SQLite database file on GitHub and a local path to save it\n",
        "    database_url = \"https://github.com/tomal32232/shrestha2/blob/main/cardiohealth.db?raw=true\"\n",
        "    local_database_file = \"./cardiohealth.db\"\n",
        "\n",
        "    # Download the database from GitHub\n",
        "    download_database_from_github(database_url, local_database_file)\n",
        "\n",
        "    # Connect to the SQLite database\n",
        "    conn = connect_to_database(local_database_file)\n",
        "\n",
        "    # Load data from the database into a DataFrame\n",
        "    df = load_data_from_db(conn)\n",
        "\n",
        "    # Data Cleaning\n",
        "    df = data_cleaning(df)\n",
        "\n",
        "    # Visualization\n",
        "    gender_to_cardio_ratio(df)\n",
        "    age_to_cardio_ratio(df)\n",
        "    bmi_to_cardio_ratio(df)\n",
        "    bmi_cholesterol_cardio_ratio(df)\n",
        "    smoke_cardio_ratio(df)\n",
        "    alcohol_cardio_ratio(df)\n",
        "    bmi_related_factors(df)\n",
        "    bmi_related_factors_combined(df)"
      ],
      "metadata": {
        "id": "yMUl9-AWe9xZ"
      },
      "execution_count": 10,
      "outputs": []
    },
    {
      "cell_type": "code",
      "source": [
        "# Check if the script is being run as the main program\n",
        "if __name__ == '__main__':\n",
        "    # If it is, execute the main function\n",
        "    main()"
      ],
      "metadata": {
        "colab": {
          "base_uri": "https://localhost:8080/",
          "height": 419
        },
        "id": "3dqnJH8nfAGd",
        "outputId": "e94bb042-cd8b-42c9-b2ad-30714c29ade7"
      },
      "execution_count": 11,
      "outputs": [
        {
          "output_type": "stream",
          "name": "stdout",
          "text": [
            "Downloading database from github...\n",
            "Database downloaded and saved to ./cardiohealth.db\n",
            "\n",
            "stablishing connection with database...\n",
            "Connection stablished with database\n"
          ]
        },
        {
          "output_type": "error",
          "ename": "NameError",
          "evalue": "ignored",
          "traceback": [
            "\u001b[0;31m---------------------------------------------------------------------------\u001b[0m",
            "\u001b[0;31mNameError\u001b[0m                                 Traceback (most recent call last)",
            "\u001b[0;32m<ipython-input-11-c7e9cf345bd3>\u001b[0m in \u001b[0;36m<cell line: 2>\u001b[0;34m()\u001b[0m\n\u001b[1;32m      2\u001b[0m \u001b[0;32mif\u001b[0m \u001b[0m__name__\u001b[0m \u001b[0;34m==\u001b[0m \u001b[0;34m'__main__'\u001b[0m\u001b[0;34m:\u001b[0m\u001b[0;34m\u001b[0m\u001b[0;34m\u001b[0m\u001b[0m\n\u001b[1;32m      3\u001b[0m     \u001b[0;31m# If it is, execute the main function\u001b[0m\u001b[0;34m\u001b[0m\u001b[0;34m\u001b[0m\u001b[0m\n\u001b[0;32m----> 4\u001b[0;31m     \u001b[0mmain\u001b[0m\u001b[0;34m(\u001b[0m\u001b[0;34m)\u001b[0m\u001b[0;34m\u001b[0m\u001b[0;34m\u001b[0m\u001b[0m\n\u001b[0m",
            "\u001b[0;32m<ipython-input-10-d8903c804b15>\u001b[0m in \u001b[0;36mmain\u001b[0;34m()\u001b[0m\n\u001b[1;32m     11\u001b[0m \u001b[0;34m\u001b[0m\u001b[0m\n\u001b[1;32m     12\u001b[0m     \u001b[0;31m# Load data from the database into a DataFrame\u001b[0m\u001b[0;34m\u001b[0m\u001b[0;34m\u001b[0m\u001b[0m\n\u001b[0;32m---> 13\u001b[0;31m     \u001b[0mdf\u001b[0m \u001b[0;34m=\u001b[0m \u001b[0mload_data_from_db\u001b[0m\u001b[0;34m(\u001b[0m\u001b[0mconn\u001b[0m\u001b[0;34m)\u001b[0m\u001b[0;34m\u001b[0m\u001b[0;34m\u001b[0m\u001b[0m\n\u001b[0m\u001b[1;32m     14\u001b[0m \u001b[0;34m\u001b[0m\u001b[0m\n\u001b[1;32m     15\u001b[0m     \u001b[0;31m# Data Cleaning\u001b[0m\u001b[0;34m\u001b[0m\u001b[0;34m\u001b[0m\u001b[0m\n",
            "\u001b[0;31mNameError\u001b[0m: name 'load_data_from_db' is not defined"
          ]
        }
      ]
    }
  ]
}